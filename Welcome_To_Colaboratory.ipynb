{
  "cells": [
    {
      "cell_type": "markdown",
      "metadata": {
        "id": "view-in-github",
        "colab_type": "text"
      },
      "source": [
        "<a href=\"https://colab.research.google.com/github/SyedSsaadHussain/project1/blob/main/Welcome_To_Colaboratory.ipynb\" target=\"_parent\"><img src=\"https://colab.research.google.com/assets/colab-badge.svg\" alt=\"Open In Colab\"/></a>"
      ]
    },
    {
      "cell_type": "markdown",
      "source": [
        "**CENTIMETER INTO METER PY.**"
      ],
      "metadata": {
        "id": "DcrMuNoYuLoJ"
      }
    },
    {
      "cell_type": "code",
      "source": [
        "C=float(input(\"enter the value in centimeter:\"))\n",
        "CM=C/100\n",
        "print(\"conver centimeter to meter:\",CM,\"m\")"
      ],
      "metadata": {
        "id": "_Mbw3Y5zaSWC",
        "outputId": "cbc6e9e9-6bdc-44b9-c9d6-d5ecfdd933a2",
        "colab": {
          "base_uri": "https://localhost:8080/"
        }
      },
      "execution_count": 14,
      "outputs": [
        {
          "output_type": "stream",
          "name": "stdout",
          "text": [
            "enter the value in centimeter:1\n",
            "conver centimeter to meter: 0.01 m\n"
          ]
        }
      ]
    },
    {
      "cell_type": "code",
      "source": [],
      "metadata": {
        "id": "MVJsQltXrm3K"
      },
      "execution_count": null,
      "outputs": []
    }
  ],
  "metadata": {
    "colab": {
      "name": "Welcome To Colaboratory",
      "toc_visible": true,
      "provenance": [],
      "include_colab_link": true
    },
    "kernelspec": {
      "display_name": "Python 3",
      "name": "python3"
    }
  },
  "nbformat": 4,
  "nbformat_minor": 0
}