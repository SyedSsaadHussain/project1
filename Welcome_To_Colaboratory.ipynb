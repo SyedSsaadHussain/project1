{
  "cells": [
    {
      "cell_type": "markdown",
      "metadata": {
        "id": "view-in-github",
        "colab_type": "text"
      },
      "source": [
        "<a href=\"https://colab.research.google.com/github/SyedSsaadHussain/project1/blob/main/Welcome_To_Colaboratory.ipynb\" target=\"_parent\"><img src=\"https://colab.research.google.com/assets/colab-badge.svg\" alt=\"Open In Colab\"/></a>"
      ]
    },
    {
      "cell_type": "markdown",
      "source": [
        "**MARKSHEET**"
      ],
      "metadata": {
        "id": "xw7f8ukQMFuN"
      }
    },
    {
      "cell_type": "code",
      "source": [
        "student_name=(input(\"enter the student name:\"))\n",
        "student_roll_no=int(input(\"enter the roll number:\"))\n",
        "english=int(input(\"english:\"))\n",
        "urdu=int(input(\"urdu:\"))\n",
        "maths=int(input(\"maths:\"))\n",
        "chemistry=int(input(\"chemistry:\"))\n",
        "physics=int(input(\"physics:\"))\n",
        "total_obtained_marks=english+urdu+maths+chemistry+physics\n",
        "print(total_obtained_marks)\n",
        "percentage=(total_obtained_marks/500)*100\n",
        "print(\"the percentage is:\",percentage,\"%\")"
      ],
      "metadata": {
        "id": "9_bGpCz0LdBs",
        "outputId": "a46addfa-f575-4bea-b436-74fc901ec96e",
        "colab": {
          "base_uri": "https://localhost:8080/"
        }
      },
      "execution_count": 1,
      "outputs": [
        {
          "output_type": "stream",
          "name": "stdout",
          "text": [
            "enter the student name:saad\n",
            "enter the roll number:11446\n",
            "english:89\n",
            "urdu:98\n",
            "maths:78\n",
            "chemistry:76\n",
            "physics:88\n",
            "429\n",
            "the percentage is: 85.8 %\n"
          ]
        }
      ]
    },
    {
      "cell_type": "code",
      "source": [],
      "metadata": {
        "id": "w_YqBUdILeqE"
      },
      "execution_count": null,
      "outputs": []
    }
  ],
  "metadata": {
    "colab": {
      "name": "Welcome To Colaboratory",
      "provenance": [],
      "include_colab_link": true
    },
    "kernelspec": {
      "display_name": "Python 3",
      "name": "python3"
    }
  },
  "nbformat": 4,
  "nbformat_minor": 0
}