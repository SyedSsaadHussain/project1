{
  "cells": [
    {
      "cell_type": "markdown",
      "metadata": {
        "id": "view-in-github",
        "colab_type": "text"
      },
      "source": [
        "<a href=\"https://colab.research.google.com/github/SyedSsaadHussain/project1/blob/main/Welcome_To_Colaboratory.ipynb\" target=\"_parent\"><img src=\"https://colab.research.google.com/assets/colab-badge.svg\" alt=\"Open In Colab\"/></a>"
      ]
    },
    {
      "cell_type": "code",
      "source": [],
      "metadata": {
        "id": "WNjrTiA8Uork"
      },
      "execution_count": null,
      "outputs": []
    },
    {
      "cell_type": "markdown",
      "source": [
        "**KILOGRAM INTO POUNDS** **PY**"
      ],
      "metadata": {
        "id": "ENAvfW_tU5me"
      }
    },
    {
      "cell_type": "code",
      "source": [
        "K=float(input(\"ENTER THE VALUE IN KILOGRAM:\"))\n",
        "POUNDS=K*2.2\n",
        "print(\"CONVERT KILOGRAM TO POUNDS:\" , POUNDS)"
      ],
      "metadata": {
        "id": "74h2GUYnVIcy",
        "outputId": "2b9a5ba8-d69e-4fa6-b41f-5d6325337c19",
        "colab": {
          "base_uri": "https://localhost:8080/"
        }
      },
      "execution_count": 12,
      "outputs": [
        {
          "output_type": "stream",
          "name": "stdout",
          "text": [
            "ENTER THE VALUE IN KILOGRAM:20\n",
            "CONVERT KILOGRAM TO POUNDS: 44.0\n"
          ]
        }
      ]
    },
    {
      "cell_type": "code",
      "source": [],
      "metadata": {
        "id": "_Mbw3Y5zaSWC"
      },
      "execution_count": null,
      "outputs": []
    }
  ],
  "metadata": {
    "colab": {
      "name": "Welcome To Colaboratory",
      "toc_visible": true,
      "provenance": [],
      "include_colab_link": true
    },
    "kernelspec": {
      "display_name": "Python 3",
      "name": "python3"
    }
  },
  "nbformat": 4,
  "nbformat_minor": 0
}