{
  "cells": [
    {
      "cell_type": "markdown",
      "metadata": {
        "id": "view-in-github",
        "colab_type": "text"
      },
      "source": [
        "<a href=\"https://colab.research.google.com/github/SyedSsaadHussain/project1/blob/main/Copy_of_Welcome_To_Colaboratory.ipynb\" target=\"_parent\"><img src=\"https://colab.research.google.com/assets/colab-badge.svg\" alt=\"Open In Colab\"/></a>"
      ]
    },
    {
      "cell_type": "markdown",
      "source": [
        "**MARKSHEET**"
      ],
      "metadata": {
        "id": "xw7f8ukQMFuN"
      }
    },
    {
      "cell_type": "code",
      "source": [
        "from ast import operator\n",
        "student_name=(input(\"enter the student name:\"))\n",
        "student_roll_no=int(input(\"enter the roll number:\"))\n",
        "english=int(input(\"english:\"))\n",
        "urdu=int(input(\"urdu:\"))\n",
        "maths=int(input(\"maths:\"))\n",
        "chemistry=int(input(\"chemistry:\"))\n",
        "physics=int(input(\"physics:\"))\n",
        "total_obtained_marks=english+urdu+maths+chemistry+physics\n",
        "print(total_obtained_marks)\n",
        "percentage=(total_obtained_marks/500)*100\n",
        "print(\"the percentage is:\",percentage)\n",
        "if(percentage<=40):\n",
        "  print(\"you got D Grade\")\n",
        "elif(percentage<=60):\n",
        "  print(\"you got C Grade\")\n",
        "elif(percentage<=80):\n",
        "  print(\"you got A\")\n",
        "else:\n",
        "  print(\"you got A one Grade\")\n",
        "\n"
      ],
      "metadata": {
        "colab": {
          "base_uri": "https://localhost:8080/"
        },
        "id": "9_bGpCz0LdBs",
        "outputId": "307276b1-6a4c-4873-a3b5-336de3fc6b24"
      },
      "execution_count": null,
      "outputs": [
        {
          "output_type": "stream",
          "name": "stdout",
          "text": [
            "enter the student name:saad\n",
            "enter the roll number:11446\n",
            "english:59\n",
            "urdu:85\n",
            "maths:79\n",
            "chemistry:86\n",
            "physics:89\n",
            "398\n",
            "the percentage is: 79.60000000000001\n",
            "you got A\n"
          ]
        }
      ]
    },
    {
      "cell_type": "code",
      "source": [],
      "metadata": {
        "id": "vNh5g3_b1J5f"
      },
      "execution_count": null,
      "outputs": []
    }
  ],
  "metadata": {
    "colab": {
      "provenance": [],
      "include_colab_link": true
    },
    "kernelspec": {
      "display_name": "Python 3",
      "name": "python3"
    }
  },
  "nbformat": 4,
  "nbformat_minor": 0
}